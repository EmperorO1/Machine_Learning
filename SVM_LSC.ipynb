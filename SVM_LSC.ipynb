{
 "cells": [
  {
   "cell_type": "code",
   "execution_count": 48,
   "metadata": {
    "collapsed": true,
    "ExecuteTime": {
     "end_time": "2023-08-12T04:01:36.668063300Z",
     "start_time": "2023-08-12T04:01:36.636148200Z"
    }
   },
   "outputs": [],
   "source": [
    "import sklearn\n",
    "from sklearn import datasets\n",
    "from sklearn.model_selection import train_test_split\n",
    "import numpy as np\n",
    "import matplotlib.pyplot as plt"
   ]
  },
  {
   "cell_type": "code",
   "execution_count": 49,
   "outputs": [],
   "source": [
    "class SVM(object):\n",
    "    def __init__(self, C=1.0):\n",
    "        self._support_vectors = None    # 支持向量机索引\n",
    "        self.C = C   # 惩罚函数\n",
    "        self.W = None   # 分类超平面的法向量\n",
    "        self.b = None   # 分类超平面的偏置\n",
    "        self.x = None   # 训练数据\n",
    "        self.y = None   # 训练标签\n",
    "        self.n = 0  # 样本数量\n",
    "        self.d = 0  # 特征数量\n",
    "\n",
    "    def __desicion_function(self, X):\n",
    "        return X.dot(self.W)+self.b     # 判断样本点相对于超平面的位置\n",
    "\n",
    "    def __margin(self, X, y):\n",
    "        return y*self.__desicion_function(X)  #  得到约束条件\n",
    "\n",
    "    def __cost(self, margin):\n",
    "        return (1/2)*self.W.dot(self.W)+self.C*np.sum(np.maximum(0,1-margin)) # 损失函数\n",
    "        # 松弛变量用hinge损失表示\n",
    "\n",
    "\n",
    "    def fit(self,X,y,lr=1e-3,epochs=500):\n",
    "        self.n,self.d=X.shape[0],X.shape[1] # n为样本数量 , d为特征数量,分别为数据的行大小与列大小\n",
    "        self.W=np.random.rand(self.d)   # 随机初始化权重向量\n",
    "        self.b=np.random.rand() # 随机化偏置\n",
    "\n",
    "        self.x=X\n",
    "        self.y=y\n",
    "        losses=[]   # 用于保存每轮迭代的损失值\n",
    "\n",
    "        for i in range(epochs):\n",
    "            margin=self.__margin(X,y)   # 求出这一轮的数据间隔\n",
    "            loss=self.__cost(margin)    # 根据间隔值算出损失值\n",
    "            losses.append(loss) # 将这一轮损失值添加到losses数组中\n",
    "\n",
    "            missclassified_pts_idx=np.where(margin<1)[0]    #找到被分类错误的样本点\n",
    "            d_W=self.W-self.C*y[missclassified_pts_idx].dot(X[missclassified_pts_idx]) #权重梯度计算\n",
    "            self.W=self.W-lr*d_W #更新权重\n",
    "\n",
    "            # d_gama=-self.C*np.sum(y[missclassified_pts_idx])\n",
    "            # self.b=self.d_gama-lr*d_gama\n",
    "\n",
    "            self._support_vectors=np.where(self.__margin(X,y)<1)[0] # 更新支持向量索引\n",
    "\n",
    "    def predict(self, X):\n",
    "        return np.sign(self.__desicion_function(X))\n",
    "\n",
    "    def score(self, X, y):\n",
    "        P = self.predict(X)\n",
    "        return np.mean(P==y)\n",
    "\n",
    "    def plotresult(self):\n",
    "        plt.figure()\n",
    "        plt.scatter(self.x[:,0], self.x[:, 1], c= self.y, s = 50, cmap=plt.cm.Paired, alpha=0.7)\n",
    "        ax = plt.gca()\n",
    "        xlim = ax.get_xlim()\n",
    "        ylim = ax.get_ylim()\n",
    "\n",
    "        xx = np.linspace(xlim[0], xlim[1], 30)\n",
    "        yy = np.linspace(ylim[0], ylim[1], 30)\n",
    "        XX, YY = np.meshgrid(xx, yy)\n",
    "        xy = np.stack([XX.ravel(), YY.ravel()], axis=1)\n",
    "        z = self.__desicion_function(xy).reshape(XX.shape)\n",
    "        ax.contour(XX,YY,z,colors = ['r', 'b','r'], levels = [-1,0,1],alpha = 0.5, linestyles=['--','-','--'],linewidths=[2.0,2.0,2.0])\n",
    "\n",
    "        ax.scatter(self.x[:,0][self._support_vectors],self.x[:,1][self._support_vectors],s=100,linewidth=1,facecolors='r',edgecolors='r')\n",
    "\n",
    "        plt.show()"
   ],
   "metadata": {
    "collapsed": false,
    "ExecuteTime": {
     "end_time": "2023-08-12T04:01:36.730056500Z",
     "start_time": "2023-08-12T04:01:36.668063300Z"
    }
   }
  },
  {
   "cell_type": "code",
   "execution_count": 50,
   "outputs": [
    {
     "name": "stdout",
     "output_type": "stream",
     "text": [
      "TrainScore: 0.5\n"
     ]
    },
    {
     "data": {
      "text/plain": "<Figure size 432x288 with 1 Axes>",
      "image/png": "[encoded data removed]"
     },
     "metadata": {
      "needs_background": "light"
     },
     "output_type": "display_data"
    }
   ],
   "source": [
    "if __name__ == '__main__':\n",
    "    iris = datasets.load_iris()\n",
    "    X_train, y_target = iris.data[:100, [2, 3]], iris.target[:100]\n",
    "    y_target[y_target == 0] = -1\n",
    "\n",
    "    model=SVM(C=0.10)\n",
    "    model.fit(X_train,y_target)\n",
    "    print(f'TrainScore: {model.score(X_train,y_target)}')\n",
    "    model.plotresult()\n"
   ],
   "metadata": {
    "collapsed": false,
    "ExecuteTime": {
     "end_time": "2023-08-12T04:01:36.896637500Z",
     "start_time": "2023-08-12T04:01:36.683246400Z"
    }
   }
  },
  {
   "cell_type": "code",
   "execution_count": 51,
   "outputs": [],
   "source": [
    "import pandas as pd"
   ],
   "metadata": {
    "collapsed": false,
    "ExecuteTime": {
     "end_time": "2023-08-12T04:01:36.956485100Z",
     "start_time": "2023-08-12T04:01:36.897633300Z"
    }
   }
  },
  {
   "cell_type": "code",
   "execution_count": 52,
   "outputs": [],
   "source": [
    "iris = pd.DataFrame(iris.data)"
   ],
   "metadata": {
    "collapsed": false,
    "ExecuteTime": {
     "end_time": "2023-08-12T04:01:36.970447600Z",
     "start_time": "2023-08-12T04:01:36.914797700Z"
    }
   }
  },
  {
   "cell_type": "code",
   "execution_count": 53,
   "outputs": [
    {
     "data": {
      "text/plain": "     0    1    2    3\n0  5.1  3.5  1.4  0.2\n1  4.9  3.0  1.4  0.2\n2  4.7  3.2  1.3  0.2\n3  4.6  3.1  1.5  0.2\n4  5.0  3.6  1.4  0.2",
      "text/html": "<div>\n<style scoped>\n    .dataframe tbody tr th:only-of-type {\n        vertical-align: middle;\n    }\n\n    .dataframe tbody tr th {\n        vertical-align: top;\n    }\n\n    .dataframe thead th {\n        text-align: right;\n    }\n</style>\n<table border=\"1\" class=\"dataframe\">\n  <thead>\n    <tr style=\"text-align: right;\">\n      <th></th>\n      <th>0</th>\n      <th>1</th>\n      <th>2</th>\n      <th>3</th>\n    </tr>\n  </thead>\n  <tbody>\n    <tr>\n      <th>0</th>\n      <td>5.1</td>\n      <td>3.5</td>\n      <td>1.4</td>\n      <td>0.2</td>\n    </tr>\n    <tr>\n      <th>1</th>\n      <td>4.9</td>\n      <td>3.0</td>\n      <td>1.4</td>\n      <td>0.2</td>\n    </tr>\n    <tr>\n      <th>2</th>\n      <td>4.7</td>\n      <td>3.2</td>\n      <td>1.3</td>\n      <td>0.2</td>\n    </tr>\n    <tr>\n      <th>3</th>\n      <td>4.6</td>\n      <td>3.1</td>\n      <td>1.5</td>\n      <td>0.2</td>\n    </tr>\n    <tr>\n      <th>4</th>\n      <td>5.0</td>\n      <td>3.6</td>\n      <td>1.4</td>\n      <td>0.2</td>\n    </tr>\n  </tbody>\n</table>\n</div>"
     },
     "execution_count": 53,
     "metadata": {},
     "output_type": "execute_result"
    }
   ],
   "source": [
    "iris.head()"
   ],
   "metadata": {
    "collapsed": false,
    "ExecuteTime": {
     "end_time": "2023-08-12T04:01:36.971444900Z",
     "start_time": "2023-08-12T04:01:36.938064400Z"
    }
   }
  },
  {
   "cell_type": "code",
   "execution_count": 66,
   "outputs": [],
   "source": [
    "class SVM(object):\n",
    "    def __init__(self, C=1.0, kernel='linear', gamma=1.0):\n",
    "        # 初始化SVM类\n",
    "        self._support_vectors = None\n",
    "        self.C = C  # 惩罚函数参数\n",
    "        self.W = None  # 分类超平面的法向量\n",
    "        self.b = None  # 分类超平面的偏置\n",
    "        self.x = None  # 训练数据\n",
    "        self.y = None  # 训练标签\n",
    "        self.n = 0  # 样本数量\n",
    "        self.d = 0  # 特征数量\n",
    "        self.kernel = kernel  # 核函数类型\n",
    "        self.gamma = gamma    # RBF核函数参数\n",
    "\n",
    "    def __kernel_function(self,X1, X2):\n",
    "        # x1:支持向量 X2: 输入参数\n",
    "        # 计算核函数的值\n",
    "        if self.kernel == 'linear':\n",
    "            return np.dot(X1, X2.T)\n",
    "        elif self.kernel == 'rbf':\n",
    "            diff = X1[:, np.newaxis] - X2\n",
    "            norm_sq = np.linalg.norm(diff, axis=2)**2\n",
    "            return np.exp(-self.gamma * norm_sq)\n",
    "\n",
    "    def __decision_function(self, X):\n",
    "        # 计算决策函数的输出\n",
    "        # return np.dot(self.W, self.__kernel_function(self.x, X)) + self.b\n",
    "        decision_values = []\n",
    "        for i in range(self.n):\n",
    "            kernel_values = self.__kernel_function(self.x[self._support_vectors], X[i, :])\n",
    "            decision_value = np.sum(self.W[self._support_vectors] * kernel_values) + self.b\n",
    "            decision_values.append(decision_value)\n",
    "        return np.array(decision_values)\n",
    "\n",
    "    def __margin(self, X, y):\n",
    "        # 计算约束条件\n",
    "        return y * self.__decision_function(X)\n",
    "\n",
    "    def __cost(self, margin):\n",
    "        # 计算损失函数\n",
    "        return (1/2) * self.W.dot(self.W) + self.C * np.sum(np.maximum(0, 1 - margin))\n",
    "\n",
    "    def fit(self, X, y, lr=1e-3, epochs=500):\n",
    "        # 获取样本数量和特征数量\n",
    "        self.n, self.d = X.shape[0], X.shape[1]\n",
    "        # 随机初始化权重向量\n",
    "        self.W = np.random.rand(self.d)\n",
    "        # 随机初始化偏置\n",
    "        self.b = np.random.rand()\n",
    "        # 保存训练数据和标签\n",
    "        self.x = X\n",
    "        self.y = y\n",
    "        losses = []  # 保存每轮迭代的损失值\n",
    "\n",
    "        for i in range(epochs):\n",
    "            margin = self.__margin(X, y)   # 计算数据点与超平面的间隔\n",
    "            loss = self.__cost(margin)     # 根据间隔计算损失\n",
    "            losses.append(loss)  # 将本轮损失添加到losses数组\n",
    "\n",
    "            missclassified_pts_idx = np.where(margin < 1)[0]  # 找到被错误分类的样本点\n",
    "            support_vectors_x = self.x[self._support_vectors]\n",
    "            d_W = self.W - self.C * y[missclassified_pts_idx].dot(self.__kernel_function(support_vectors_x, X[missclassified_pts_idx]))\n",
    "            self.W = self.W - lr * d_W  # 更新权重\n",
    "\n",
    "            self._support_vectors = np.where(self.__margin(X, y) < 1)[0]  # 更新支持向量索引\n",
    "\n",
    "    def predict(self, X):\n",
    "        # 预测新数据点的类别\n",
    "        return np.sign(self.__decision_function(X))\n",
    "\n",
    "    def score(self, X, y):\n",
    "        # 计算模型在数据集上的准确率\n",
    "        P = self.predict(X)\n",
    "        return np.mean(P == y)\n",
    "\n",
    "    def plotresult(self):\n",
    "        # 绘制分类结果\n",
    "        plt.figure()\n",
    "        plt.scatter(self.x[:, 0], self.x[:, 1], c=self.y, s=50, cmap=plt.cm.Paired, alpha=0.7)\n",
    "        ax = plt.gca()\n",
    "        xlim = ax.get_xlim()\n",
    "        ylim = ax.get_ylim()\n",
    "\n",
    "        xx = np.linspace(xlim[0], xlim[1], 30)\n",
    "        yy = np.linspace(ylim[0], ylim[1], 30)\n",
    "        XX, YY = np.meshgrid(xx, yy)\n",
    "        xy = np.stack([XX.ravel(), YY.ravel()], axis=1)\n",
    "        z = self.__decision_function(xy).reshape(XX.shape)\n",
    "        ax.contour(XX, YY, z, colors=['r', 'b', 'r'], levels=[-1, 0, 1], alpha=0.5, linestyles=['--', '-', '--'], linewidths=[2.0, 2.0, 2.0])\n",
    "\n",
    "        ax.scatter(self.x[:, 0][self._support_vectors], self.x[:, 1][self._support_vectors], s=100, linewidth=1, facecolors='r', edgecolors='r')\n",
    "\n",
    "        plt.show()\n"
   ],
   "metadata": {
    "collapsed": false,
    "ExecuteTime": {
     "end_time": "2023-08-12T04:08:45.581439900Z",
     "start_time": "2023-08-12T04:08:45.547413900Z"
    }
   }
  },
  {
   "cell_type": "code",
   "execution_count": 67,
   "outputs": [
    {
     "ename": "ValueError",
     "evalue": "shapes (100,) and (1,1,2) not aligned: 100 (dim 0) != 1 (dim 1)",
     "output_type": "error",
     "traceback": [
      "\u001B[1;31m---------------------------------------------------------------------------\u001B[0m",
      "\u001B[1;31mValueError\u001B[0m                                Traceback (most recent call last)",
      "\u001B[1;32m<ipython-input-67-f0d3a606bed7>\u001B[0m in \u001B[0;36m<module>\u001B[1;34m\u001B[0m\n\u001B[0;32m      5\u001B[0m \u001B[1;33m\u001B[0m\u001B[0m\n\u001B[0;32m      6\u001B[0m     \u001B[0msvm\u001B[0m \u001B[1;33m=\u001B[0m \u001B[0mSVM\u001B[0m\u001B[1;33m(\u001B[0m\u001B[0mC\u001B[0m\u001B[1;33m=\u001B[0m\u001B[1;36m1.0\u001B[0m\u001B[1;33m,\u001B[0m \u001B[0mkernel\u001B[0m\u001B[1;33m=\u001B[0m\u001B[1;34m'rbf'\u001B[0m\u001B[1;33m,\u001B[0m \u001B[0mgamma\u001B[0m\u001B[1;33m=\u001B[0m\u001B[1;36m0.5\u001B[0m\u001B[1;33m)\u001B[0m\u001B[1;33m\u001B[0m\u001B[1;33m\u001B[0m\u001B[0m\n\u001B[1;32m----> 7\u001B[1;33m     \u001B[0msvm\u001B[0m\u001B[1;33m.\u001B[0m\u001B[0mfit\u001B[0m\u001B[1;33m(\u001B[0m\u001B[0mX\u001B[0m\u001B[1;33m,\u001B[0m \u001B[0my\u001B[0m\u001B[1;33m)\u001B[0m\u001B[1;33m\u001B[0m\u001B[1;33m\u001B[0m\u001B[0m\n\u001B[0m\u001B[0;32m      8\u001B[0m     \u001B[0msvm\u001B[0m\u001B[1;33m.\u001B[0m\u001B[0mplotresult\u001B[0m\u001B[1;33m(\u001B[0m\u001B[1;33m)\u001B[0m\u001B[1;33m\u001B[0m\u001B[1;33m\u001B[0m\u001B[0m\n",
      "\u001B[1;32m<ipython-input-66-587490956ba4>\u001B[0m in \u001B[0;36mfit\u001B[1;34m(self, X, y, lr, epochs)\u001B[0m\n\u001B[0;32m     60\u001B[0m             \u001B[0mmissclassified_pts_idx\u001B[0m \u001B[1;33m=\u001B[0m \u001B[0mnp\u001B[0m\u001B[1;33m.\u001B[0m\u001B[0mwhere\u001B[0m\u001B[1;33m(\u001B[0m\u001B[0mmargin\u001B[0m \u001B[1;33m<\u001B[0m \u001B[1;36m1\u001B[0m\u001B[1;33m)\u001B[0m\u001B[1;33m[\u001B[0m\u001B[1;36m0\u001B[0m\u001B[1;33m]\u001B[0m  \u001B[1;31m# 找到被错误分类的样本点\u001B[0m\u001B[1;33m\u001B[0m\u001B[1;33m\u001B[0m\u001B[0m\n\u001B[0;32m     61\u001B[0m             \u001B[0msupport_vectors_x\u001B[0m \u001B[1;33m=\u001B[0m \u001B[0mself\u001B[0m\u001B[1;33m.\u001B[0m\u001B[0mx\u001B[0m\u001B[1;33m[\u001B[0m\u001B[0mself\u001B[0m\u001B[1;33m.\u001B[0m\u001B[0m_support_vectors\u001B[0m\u001B[1;33m]\u001B[0m\u001B[1;33m\u001B[0m\u001B[1;33m\u001B[0m\u001B[0m\n\u001B[1;32m---> 62\u001B[1;33m             \u001B[0md_W\u001B[0m \u001B[1;33m=\u001B[0m \u001B[0mself\u001B[0m\u001B[1;33m.\u001B[0m\u001B[0mW\u001B[0m \u001B[1;33m-\u001B[0m \u001B[0mself\u001B[0m\u001B[1;33m.\u001B[0m\u001B[0mC\u001B[0m \u001B[1;33m*\u001B[0m \u001B[0my\u001B[0m\u001B[1;33m[\u001B[0m\u001B[0mmissclassified_pts_idx\u001B[0m\u001B[1;33m]\u001B[0m\u001B[1;33m.\u001B[0m\u001B[0mdot\u001B[0m\u001B[1;33m(\u001B[0m\u001B[0mself\u001B[0m\u001B[1;33m.\u001B[0m\u001B[0m__kernel_function\u001B[0m\u001B[1;33m(\u001B[0m\u001B[0msupport_vectors_x\u001B[0m\u001B[1;33m,\u001B[0m \u001B[0mX\u001B[0m\u001B[1;33m[\u001B[0m\u001B[0mmissclassified_pts_idx\u001B[0m\u001B[1;33m]\u001B[0m\u001B[1;33m)\u001B[0m\u001B[1;33m)\u001B[0m\u001B[1;33m\u001B[0m\u001B[1;33m\u001B[0m\u001B[0m\n\u001B[0m\u001B[0;32m     63\u001B[0m             \u001B[0mself\u001B[0m\u001B[1;33m.\u001B[0m\u001B[0mW\u001B[0m \u001B[1;33m=\u001B[0m \u001B[0mself\u001B[0m\u001B[1;33m.\u001B[0m\u001B[0mW\u001B[0m \u001B[1;33m-\u001B[0m \u001B[0mlr\u001B[0m \u001B[1;33m*\u001B[0m \u001B[0md_W\u001B[0m  \u001B[1;31m# 更新权重\u001B[0m\u001B[1;33m\u001B[0m\u001B[1;33m\u001B[0m\u001B[0m\n\u001B[0;32m     64\u001B[0m \u001B[1;33m\u001B[0m\u001B[0m\n",
      "\u001B[1;31mValueError\u001B[0m: shapes (100,) and (1,1,2) not aligned: 100 (dim 0) != 1 (dim 1)"
     ]
    }
   ],
   "source": [
    "if __name__ == \"__main__\":\n",
    "    np.random.seed(42)\n",
    "    X = np.random.randn(100, 2)\n",
    "    y = np.where(X[:, 0] + X[:, 1] > 0, 1, -1)\n",
    "\n",
    "    svm = SVM(C=1.0, kernel='rbf', gamma=0.5)\n",
    "    svm.fit(X, y)\n",
    "    svm.plotresult()"
   ],
   "metadata": {
    "collapsed": false,
    "ExecuteTime": {
     "end_time": "2023-08-12T04:08:45.974303Z",
     "start_time": "2023-08-12T04:08:45.950133400Z"
    }
   }
  },
  {
   "cell_type": "code",
   "execution_count": null,
   "outputs": [],
   "source": [
    "sklearn.svm"
   ],
   "metadata": {
    "collapsed": false
   }
  }
 ],
 "metadata": {
  "kernelspec": {
   "display_name": "Python 3",
   "language": "python",
   "name": "python3"
  },
  "language_info": {
   "codemirror_mode": {
    "name": "ipython",
    "version": 2
   },
   "file_extension": ".py",
   "mimetype": "text/x-python",
   "name": "python",
   "nbconvert_exporter": "python",
   "pygments_lexer": "ipython2",
   "version": "2.7.6"
  }
 },
 "nbformat": 4,
 "nbformat_minor": 0
}
