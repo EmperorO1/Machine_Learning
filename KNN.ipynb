{
 "cells": [
  {
   "cell_type": "code",
   "execution_count": 2,
   "metadata": {
    "collapsed": true
   },
   "outputs": [],
   "source": [
    "import numpy as np\n",
    "class kdnode(object):   #继承object类\n",
    "    #树节点\n",
    "    def __init__(self, dom_elt, split, left, right, target):\n",
    "        self.dom_elf = dom_elt  # 数据\n",
    "        self.split = split  # 当前切分维度\n",
    "        self.left = left\n",
    "        self.right = right\n",
    "        self.case = 0 #0表示还未被访问\n",
    "        self.label = target"
   ]
  },
  {
   "cell_type": "code",
   "execution_count": 3,
   "outputs": [],
   "source": [
    "class kdtree(object):\n",
    "    # 根据数据创建一个kd树\n",
    "    def __init__(self, data, target):\n",
    "        self.data = np.array(data)\n",
    "        self.k = len(data[0])  # 数据维度\n",
    "        self.lable = target\n",
    "        self.root = self.createnode(data, 0) # 根节点\n",
    "        self.L = [] # 储存已搜寻到的最近点\n",
    "    def createnode(self, data, split):\n",
    "        # 迭代生成二叉树, split表示切分维度, 从第一维开始(索引是0)\n",
    "        if data == []: # 如果数据为空\n",
    "            return None\n",
    "\n",
    "        split_pos = len(data)/2 # 中位数索引\n",
    "        data_sort = sorted(data, key=lambda x:x[split]) #输入x输出x[split]当前维度 以当前维度排序\n",
    "\n",
    "        for i in range(len(self.data)): #找到此数据的原始索引\n",
    "            if (self.data[i] == data_sort[split_pos]).all():\n",
    "                break\n",
    "\n",
    "        median = data_sort[split_pos] #数据\n",
    "        split_next = (split+1) % self.k # 下一个维度\n",
    "        # 继续向下创建节点\n",
    "        # self.createnode(data_sort[:split_pos] 左边数据创建节点\n",
    "        # self.createnode(data_sort[split_pos+1:] 右边数据创建节点\n",
    "        # split_next以下一个维度分\n",
    "        return kdnode(median, split, self.createnode(data_sort[:split_pos], split_next), self.createnode(data_sort[split_pos+1:], split_next), self.lable[i])\n",
    "\n",
    "    def find_nearest(self, tree, point):\n",
    "        # 找到离point最近的点\n",
    "        self.nearest_point = None\n",
    "        self.nearest_value = 0\n",
    "\n",
    "        def travel(node, depth):\n",
    "            # 遍历kd树,返回最小距离的值\n",
    "            if node!=None:\n",
    "                n = len(point)\n",
    "                axix = depth%n # 代表以depth%n维度切分\n",
    "                if point[axix] < node.dom_elt[axix]:\n",
    "                    travel(node.left, depth+1)\n",
    "                else:\n",
    "                    travel(node.right, depth+1)\n",
    "\n",
    "                distance = self.dis(point, node.dom_elt) # 与当前结点的距离\n",
    "\n",
    "                if (self.nearest_point is None):\n",
    "                    #第一次到最底层,此时还没有最小距离点的初始值\n",
    "                    self.nearest_point=node.dom_elt\n",
    "                    self.nearest_value=distance\n",
    "\n",
    "                elif self.nearest_value>distance:\n",
    "                    #当前结点的距离更小，更新最小数据\n",
    "                    self.nearest_point=node.dom_elt\n",
    "                    self.nearest_value=distance\n",
    "\n",
    "                print(node.dom_elt,depth,self.nearest_value,node.label) #把离得最近的值打印,记录遍历结点顺序\n",
    "\n",
    "                if abs\n",
    "\n"
   ],
   "metadata": {
    "collapsed": false
   }
  },
  {
   "cell_type": "code",
   "execution_count": null,
   "outputs": [],
   "source": [],
   "metadata": {
    "collapsed": false
   }
  }
 ],
 "metadata": {
  "kernelspec": {
   "display_name": "Python 3",
   "language": "python",
   "name": "python3"
  },
  "language_info": {
   "codemirror_mode": {
    "name": "ipython",
    "version": 2
   },
   "file_extension": ".py",
   "mimetype": "text/x-python",
   "name": "python",
   "nbconvert_exporter": "python",
   "pygments_lexer": "ipython2",
   "version": "2.7.6"
  }
 },
 "nbformat": 4,
 "nbformat_minor": 0
}
